{
  "cells": [
    {
      "cell_type": "code",
      "execution_count": 1,
      "metadata": {
        "colab": {
          "base_uri": "https://localhost:8080/"
        },
        "id": "5ooTkOfPz_Uk",
        "outputId": "8480339d-f197-49a1-f9c4-1fd8385388f3"
      },
      "outputs": [
        {
          "ename": "KeyError",
          "evalue": "'document'",
          "output_type": "error",
          "traceback": [
            "\u001b[0;31m---------------------------------------------------------------------------\u001b[0m",
            "\u001b[0;31mKeyError\u001b[0m                                  Traceback (most recent call last)",
            "Cell \u001b[0;32mIn[1], line 46\u001b[0m\n\u001b[1;32m     43\u001b[0m         \u001b[38;5;28;01mif\u001b[39;00m \u001b[38;5;124m\"\u001b[39m\u001b[38;5;124mchildren\u001b[39m\u001b[38;5;124m\"\u001b[39m \u001b[38;5;129;01min\u001b[39;00m node:\n\u001b[1;32m     44\u001b[0m             find_components(node[\u001b[38;5;124m\"\u001b[39m\u001b[38;5;124mchildren\u001b[39m\u001b[38;5;124m\"\u001b[39m])\n\u001b[0;32m---> 46\u001b[0m find_components(\u001b[43mdata\u001b[49m\u001b[43m[\u001b[49m\u001b[38;5;124;43m\"\u001b[39;49m\u001b[38;5;124;43mdocument\u001b[39;49m\u001b[38;5;124;43m\"\u001b[39;49m\u001b[43m]\u001b[49m[\u001b[38;5;124m\"\u001b[39m\u001b[38;5;124mchildren\u001b[39m\u001b[38;5;124m\"\u001b[39m])\n\u001b[1;32m     48\u001b[0m \u001b[38;5;66;03m# Results\u001b[39;00m\n\u001b[1;32m     49\u001b[0m \u001b[38;5;28mprint\u001b[39m(\u001b[38;5;124mf\u001b[39m\u001b[38;5;124m\"\u001b[39m\u001b[38;5;130;01m\\n\u001b[39;00m\u001b[38;5;132;01m{\u001b[39;00mfile_name\u001b[38;5;132;01m}\u001b[39;00m\u001b[38;5;124m\"\u001b[39m)\n",
            "\u001b[0;31mKeyError\u001b[0m: 'document'"
          ]
        }
      ],
      "source": [
        "import requests\n",
        "import json\n",
        "\n",
        "# API Requerements\n",
        "\n",
        "FIGMA_TOKEN = input(\"Figma API Token: \").strip()\n",
        "FILE_ID = input(\"File ID: \").strip()\n",
        "\n",
        "BASE_URL = f\"https://api.figma.com/v1/files/{FILE_ID}\"\n",
        "HEADERS = {\"X-Figma-Token\": FIGMA_TOKEN}\n",
        "\n",
        "\n",
        "\n",
        "#Request to Figma API\n",
        "\n",
        "try:\n",
        "    response = requests.get(BASE_URL, headers=HEADERS)\n",
        "    data = response.json()\n",
        "except requests.exceptions.RequestException as e:\n",
        "    print(f\"Error fetching data: {e}\")\n",
        "\n",
        "if data:\n",
        "\n",
        "#request is successful and varable data is created\n",
        "\n",
        "    file_name = data.get(\"name\", \"Unknown\")\n",
        "    last_update = data.get(\"lastModified\", \"Unknown\")\n",
        "\n",
        "    total_component_sets = 0\n",
        "    total_components = 0\n",
        "    component_sets_list = []\n",
        "\n",
        "    def find_components(nodes):\n",
        "        global total_component_sets, total_components\n",
        "\n",
        "        for node in nodes:\n",
        "            if node[\"type\"] == \"COMPONENT_SET\":\n",
        "                total_component_sets += 1\n",
        "                component_sets_list.append({\"name\": node[\"name\"], \"node_id\": node[\"id\"]})\n",
        "            elif node[\"type\"] == \"COMPONENT\":\n",
        "                total_components += 1\n",
        "\n",
        "            if \"children\" in node:\n",
        "                find_components(node[\"children\"])\n",
        "\n",
        "    find_components(data[\"document\"][\"children\"])\n",
        "\n",
        "    # Results\n",
        "    print(f\"\\n{file_name}\")\n",
        "    print(f\"ID: {FILE_ID}\")\n",
        "    print(f\"Last Update: {last_update}\")\n",
        "    print(f\"Total Component Sets: {total_component_sets}\")\n",
        "    print(f\"Total Components: {total_components}\")\n",
        "    print(\"\\n List of Component Sets:\")\n",
        "\n",
        "    for item in component_sets_list:\n",
        "        print(f\"- {item['name']} (Node ID: {item['node_id']})\")\n",
        "\n",
        "\n",
        "#request is unsuccessful\n",
        "\n",
        "else:\n",
        "    print(\"❌ Failed to fetch data. Check your API token and File ID.\")\n"
      ]
    }
  ],
  "metadata": {
    "colab": {
      "provenance": []
    },
    "kernelspec": {
      "display_name": "Python 3",
      "name": "python3"
    },
    "language_info": {
      "codemirror_mode": {
        "name": "ipython",
        "version": 3
      },
      "file_extension": ".py",
      "mimetype": "text/x-python",
      "name": "python",
      "nbconvert_exporter": "python",
      "pygments_lexer": "ipython3",
      "version": "3.13.2"
    }
  },
  "nbformat": 4,
  "nbformat_minor": 0
}
