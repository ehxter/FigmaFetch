{
  "nbformat": 4,
  "nbformat_minor": 0,
  "metadata": {
    "colab": {
      "provenance": []
    },
    "kernelspec": {
      "name": "python3",
      "display_name": "Python 3"
    },
    "language_info": {
      "name": "python"
    }
  },
  "cells": [
    {
      "cell_type": "code",
      "execution_count": 8,
      "metadata": {
        "colab": {
          "base_uri": "https://localhost:8080/"
        },
        "id": "5ooTkOfPz_Uk",
        "outputId": "8480339d-f197-49a1-f9c4-1fd8385388f3"
      },
      "outputs": [
        {
          "output_type": "stream",
          "name": "stdout",
          "text": [
            "Figma API Token: figd_4IAD8mbGwd4jM8F_0StHYd0zlxJLLTxROIkYFNRU\n",
            "File ID: KTzQW3JVgbusagpi94WySD\n",
            "\n",
            "AWD - Buttons 1.0.0\n",
            "ID: KTzQW3JVgbusagpi94WySD\n",
            "Last Update: 2025-04-01T03:57:50Z\n",
            "Total Component Sets: 8\n",
            "Total Components: 141\n",
            "\n",
            " List of Component Sets:\n",
            "- Button (Node ID: 2662:1972)\n",
            "- Icon Button (Node ID: 2761:362)\n",
            "- Page Action Button (Node ID: 2827:1337)\n",
            "- Radio Button (Node ID: 2827:1823)\n",
            "- Toggle (Node ID: 2832:7434)\n",
            "- Check Box (Node ID: 2800:1832)\n",
            "- Button Group (Node ID: 239:777)\n",
            "- Recom Button Group (Node ID: 240:546)\n"
          ]
        }
      ],
      "source": [
        "import requests\n",
        "import json\n",
        "\n",
        "# API Requerements\n",
        "\n",
        "FIGMA_TOKEN = input(\"Figma API Token: \").strip()\n",
        "FILE_ID = input(\"File ID: \").strip()\n",
        "\n",
        "BASE_URL = f\"https://api.figma.com/v1/files/{FILE_ID}\"\n",
        "HEADERS = {\"X-Figma-Token\": FIGMA_TOKEN}\n",
        "\n",
        "\n",
        "\n",
        "#Request to Figma API\n",
        "\n",
        "try:\n",
        "    response = requests.get(BASE_URL, headers=HEADERS)\n",
        "    data = response.json()\n",
        "except requests.exceptions.RequestException as e:\n",
        "    print(f\"Error fetching data: {e}\")\n",
        "\n",
        "if data:\n",
        "\n",
        "#request is successful and varable data is created\n",
        "\n",
        "    file_name = data.get(\"name\", \"Unknown\")\n",
        "    last_update = data.get(\"lastModified\", \"Unknown\")\n",
        "\n",
        "    total_component_sets = 0\n",
        "    total_components = 0\n",
        "    component_sets_list = []\n",
        "\n",
        "    def find_components(nodes):\n",
        "        global total_component_sets, total_components\n",
        "\n",
        "        for node in nodes:\n",
        "            if node[\"type\"] == \"COMPONENT_SET\":\n",
        "                total_component_sets += 1\n",
        "                component_sets_list.append({\"name\": node[\"name\"], \"node_id\": node[\"id\"]})\n",
        "            elif node[\"type\"] == \"COMPONENT\":\n",
        "                total_components += 1\n",
        "\n",
        "            if \"children\" in node:\n",
        "                find_components(node[\"children\"])\n",
        "\n",
        "    find_components(data[\"document\"][\"children\"])\n",
        "\n",
        "    # Results\n",
        "    print(f\"\\n{file_name}\")\n",
        "    print(f\"ID: {FILE_ID}\")\n",
        "    print(f\"Last Update: {last_update}\")\n",
        "    print(f\"Total Component Sets: {total_component_sets}\")\n",
        "    print(f\"Total Components: {total_components}\")\n",
        "    print(\"\\n List of Component Sets:\")\n",
        "\n",
        "    for item in component_sets_list:\n",
        "        print(f\"- {item['name']} (Node ID: {item['node_id']})\")\n",
        "\n",
        "\n",
        "#request is unsuccessful\n",
        "\n",
        "else:\n",
        "    print(\"❌ Failed to fetch data. Check your API token and File ID.\")\n"
      ]
    }
  ]
}